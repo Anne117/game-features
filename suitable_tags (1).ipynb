{
 "cells": [
  {
   "cell_type": "code",
   "execution_count": 1,
   "metadata": {},
   "outputs": [
    {
     "name": "stderr",
     "output_type": "stream",
     "text": [
      "c:\\Users\\Ava01\\AppData\\Local\\Programs\\Python\\Python312\\Lib\\site-packages\\tqdm\\auto.py:21: TqdmWarning: IProgress not found. Please update jupyter and ipywidgets. See https://ipywidgets.readthedocs.io/en/stable/user_install.html\n",
      "  from .autonotebook import tqdm as notebook_tqdm\n"
     ]
    }
   ],
   "source": [
    "import pandas as pd\n",
    "import torch\n",
    "from transformers import RobertaTokenizer, RobertaModel\n",
    "import nltk\n",
    "from nltk.stem import PorterStemmer\n",
    "from sklearn.metrics.pairwise import cosine_similarity\n",
    "import re\n",
    "import numpy as np"
   ]
  },
  {
   "cell_type": "code",
   "execution_count": 2,
   "metadata": {},
   "outputs": [],
   "source": [
    "data = pd.read_csv('every-game.csv')"
   ]
  },
  {
   "cell_type": "code",
   "execution_count": 3,
   "metadata": {},
   "outputs": [],
   "source": [
    "data['Description'] = data['Description'].astype(str)\n",
    "data['Tags'] = data['Tags'].astype(str) "
   ]
  },
  {
   "cell_type": "code",
   "execution_count": 4,
   "metadata": {},
   "outputs": [
    {
     "name": "stdout",
     "output_type": "stream",
     "text": [
      "CUDA is available. Using GPU.\n"
     ]
    }
   ],
   "source": [
    "import torch\n",
    "\n",
    "if torch.cuda.is_available():\n",
    "    device = torch.device(\"cuda\")\n",
    "    print(\"CUDA is available. Using GPU.\")\n",
    "else:\n",
    "    device = torch.device(\"cpu\")\n",
    "    print(\"CUDA is not available. Using CPU.\")"
   ]
  },
  {
   "cell_type": "code",
   "execution_count": 5,
   "metadata": {},
   "outputs": [
    {
     "name": "stderr",
     "output_type": "stream",
     "text": [
      "Some weights of RobertaModel were not initialized from the model checkpoint at roberta-base and are newly initialized: ['roberta.pooler.dense.bias', 'roberta.pooler.dense.weight']\n",
      "You should probably TRAIN this model on a down-stream task to be able to use it for predictions and inference.\n",
      "[nltk_data] Downloading package punkt to\n",
      "[nltk_data]     C:\\Users\\Ava01\\AppData\\Roaming\\nltk_data...\n",
      "[nltk_data]   Package punkt is already up-to-date!\n"
     ]
    }
   ],
   "source": [
    "tokenizer = RobertaTokenizer.from_pretrained('roberta-base')\n",
    "model = RobertaModel.from_pretrained('roberta-base').to(device)\n",
    "nltk.download('punkt')\n",
    "stemmer = PorterStemmer()"
   ]
  },
  {
   "cell_type": "code",
   "execution_count": 6,
   "metadata": {},
   "outputs": [],
   "source": [
    "def preprocess_text(text):\n",
    "    text = text.lower()  # Приведение к нижнему регистру\n",
    "    text = re.sub(r'[^\\w\\s]', '', text)  # Удаление знаков препинания\n",
    "    tokens = nltk.word_tokenize(text)  # Токенизация текста\n",
    "    stemmed_tokens = [stemmer.stem(token) for token in tokens]  # Стемминг токенов\n",
    "    return ' '.join(stemmed_tokens)"
   ]
  },
  {
   "cell_type": "code",
   "execution_count": 7,
   "metadata": {},
   "outputs": [],
   "source": [
    "def get_embeddings(texts):\n",
    "    texts = [preprocess_text(text) for text in texts]\n",
    "    encoded_input = tokenizer(texts, padding=True, truncation=True, return_tensors='pt', max_length=512)\n",
    "    encoded_input = {key: value.to(device) for key, value in encoded_input.items()}\n",
    "    with torch.no_grad():\n",
    "        model_output = model(**encoded_input)\n",
    "    return model_output.last_hidden_state[:, 0, :].cpu().detach()"
   ]
  },
  {
   "cell_type": "code",
   "execution_count": 8,
   "metadata": {},
   "outputs": [],
   "source": [
    "import pickle\n",
    "def save_embeddings_to_pickle(embeddings, filename):\n",
    "    with open(filename, 'wb') as f:\n",
    "        pickle.dump(embeddings, f)\n",
    "\n",
    "def load_embeddings_from_pickle(filename):\n",
    "    with open(filename, 'rb') as f:\n",
    "        return pickle.load(f)\n",
    "\n",
    "description_embeddings = load_embeddings_from_pickle('description_embeddings.pkl')"
   ]
  },
  {
   "cell_type": "code",
   "execution_count": 9,
   "metadata": {},
   "outputs": [],
   "source": [
    "from collections import Counter"
   ]
  },
  {
   "cell_type": "code",
   "execution_count": 10,
   "metadata": {},
   "outputs": [],
   "source": [
    "def find_similar_descriptions_and_suggest_tags(new_description, num_similar=10):\n",
    "    new_description_emb = get_embeddings([new_description])\n",
    "    similarities = cosine_similarity(new_description_emb, description_embeddings)[0]\n",
    "    top_indices = np.argsort(similarities)[::-1][:num_similar]\n",
    "    similar_data = data.iloc[top_indices]\n",
    "\n",
    "    # Агрегация тегов из похожих описаний\n",
    "    all_tags = []\n",
    "    for tags in similar_data['Tags']:\n",
    "        all_tags.extend(tags.split(','))  # Предполагаем, что теги разделены запятыми\n",
    "\n",
    "    # Подсчёт частоты каждого тега\n",
    "    tag_frequency = Counter(all_tags)\n",
    "    most_common_tags = [tag.strip() for tag, _ in tag_frequency.most_common(20)]  # Выбираем топ-10 самых частых тегов\n",
    "\n",
    "    return most_common_tags"
   ]
  },
  {
   "cell_type": "code",
   "execution_count": 11,
   "metadata": {},
   "outputs": [],
   "source": [
    "all_tags = [\n",
    "    'Party-Based RPG', 'Driving', 'Violent', 'Villain Protagonist', 'Medical Sim', '8-bit Music', 'Hentai', 'Visual Novel', 'Boxing', 'Sniper', 'Moddable', '2D',\n",
    "    'Hobby Sim', 'Co-op Campaign', 'Procedural Generation', 'Quick-Time Events', 'Deckbuilding', 'Intentionally Awkward Controls', 'Psychedelic', 'Photo Editing',\n",
    "    'Turn-Based Tactics', 'Western', 'Features: Online PvP', 'Score Attack', 'Lore-Rich', 'Capitalism', 'Steampunk', 'Vikings', 'RTS', 'Auto Battler', 'Political Sim',\n",
    "    'Roguelike Deckbuilder', 'Asymmetric VR', 'Spectacle fighter', 'Immersive Sim', 'Tutorial', 'Logic', '3D Platformer', 'Ninja', 'Mini Golf', 'Early Access',\n",
    "    'Philosophical', 'Time Management', 'Bullet Hell', 'Collectathon', 'Controller', 'Birds', 'Heist', 'Rhythm', 'Magic', 'Werewolves', 'Great Soundtrack',\n",
    "    'Automobile Sim', 'Reboot', 'Baseball', 'Wargame', 'Post-apocalyptic', \"Shoot 'Em Up\", 'Cult Classic', 'Tower Defense', 'City Builder', 'Replay Value',\n",
    "    'Based On A Novel', 'Trading', 'Assassin', 'Local Multiplayer', \"1990's\", 'Otome', 'Medieval', 'Detective', 'Drama', '6DOF', \"Beat 'em up\", 'Pixel Graphics',\n",
    "    'Space', 'Sailing', 'Hand-drawn', 'Mythology', 'Naval Combat', 'Trivia', 'Addictive', 'Football (American)', '4X', 'Arcade', 'Instrumental Music', 'Science',\n",
    "    'Choices Matter', 'Musou', 'Open World', 'Diplomacy', 'Illuminati', 'Aliens', 'Horses', 'Rock Music', 'Tile-Matching', 'Alternate History', 'Remake',\n",
    "    'Simulation', '4 Player Local', 'Cute', 'Fishing', 'CRPG', 'Gore', 'Features: Stats', 'Features: Family Sharing', 'FMV', 'Economy', 'Minimalist',\n",
    "    'Audio Production', 'Shooter', 'Nudity', 'Snow', 'Short', 'Pool', 'Third-Person Shooter', 'Side Scroller', \"1990\\\\'s\", 'Singleplayer', 'Text-Based', 'Crime',\n",
    "    'Profile Features Limited', 'Mature', 'Combat', 'Romance', 'Real Time Tactics', \"Shoot \\\\'Em Up\", 'Skiing', 'LEGO', 'Software', 'Sports', 'Split Screen',\n",
    "    'Creature Collector', 'Walking Simulator', 'Archery', 'Perma Death', 'Anime', 'Documentary', 'Action', 'Survival', 'Family Sharing', 'Transportation',\n",
    "    'Benchmark', 'Jump Scare', 'Strategy RPG', 'Hex Grid', 'Cycling', 'Dinosaurs', 'Warhammer 40K', 'Elf', 'PvP', 'Design & Illustration', 'Strategy',\n",
    "    'Hack and Slash', 'Card Game', 'Choose Your Own Adventure', 'GameMaker', 'Destruction', 'Top-Down', 'Nonlinear', 'Ambient', 'Education', 'Features: Single-player',\n",
    "    'Character Action Game', 'Psychological Horror', 'Pirates', 'Retro', 'Kickstarter', 'Motocross', 'Tabletop', 'Puzzle Platformer', 'RPG', 'Third Person',\n",
    "    'Character Customization', 'Volleyball', 'Building', 'Automation', 'Immersive', 'Class-Based', 'Trains', 'Satire', 'Souls-like', 'JRPG', 'Well-Written',\n",
    "    'Voxel', 'Mod', 'Foreign', 'Extraction Shooter', 'Swordplay', 'Job Simulator', 'Jet', 'Dynamic Narration', 'Mechs', 'Space Sim', 'Blood', 'Sandbox',\n",
    "    'Politics', 'Open World Survival Craft', 'Atmospheric', 'Casual', 'Minigames', 'Battle Royale', 'Stylized', 'Wholesome', 'Narrative', 'Survival Horror',\n",
    "    'Hero Shooter', 'Shop Keeper', 'Supernatural', 'Time Attack', 'Narration', 'Clicker', 'Isometric', 'Arena Shooter', 'Fantasy', 'Cooking', 'Turn-Based Combat',\n",
    "    'Rome', 'Submarine', 'Comic Book', 'Tennis', 'Free to Play', 'Social Deduction', 'Skateboarding', 'First-Person', 'America', 'Massively Multiplayer', 'Zombies',\n",
    "    'Includes level editor', 'Bullet Time', 'Bikes', 'Match 3', 'World War II', 'Multiple Endings', 'Outbreak Sim', 'Management', 'Artificial Intelligence',\n",
    "    'Comedy', 'Dark', 'ATV', 'Word Game', 'Physics', 'Roguelike', 'Lemmings', 'Golf', 'Difficult', 'Exploration', 'Action RPG', 'Point & Click', 'Trading Card Game',\n",
    "    'Action RTS', 'Dungeons & Dragons', 'Lovecraftian', 'Historical', 'Time Travel', 'Escape Room', 'Grand Strategy', 'Voice Control', 'Runner', 'Boss Rush',\n",
    "    'Soundtrack', 'Unforgiving', '360 Video', 'Indie', 'Female Protagonist', 'Silent Protagonist', 'Episodic', 'Sci-fi', 'Military', 'Farming', 'Boomer Shooter',\n",
    "    'Noir', 'Dark Comedy', 'Spelling', 'Games Workshop', 'Conspiracy', 'Cozy', 'Conversation', 'Mahjong', 'FPS', 'Interactive Fiction', 'Inventory Management',\n",
    "    'Mystery', 'Political', 'Platformer', 'Time Manipulation', 'Loot', 'Real-Time', 'Life Sim', 'Spaceships', 'Snooker', 'Wrestling', 'Experience', 'Colorful',\n",
    "    'Coding', 'Hockey', 'Modern', 'Turn-Based Strategy', 'Game Development', 'Board Game', 'Beautiful', 'LGBTQ+', 'Gaming', 'Dating Sim', 'Cinematic', 'Puzzle',\n",
    "    'Multiplayer', 'Typing', 'Metroidvania', 'Agriculture', 'Motorbike', 'Vampire', 'Robots', 'Relaxing', 'Competitive', 'Snowboarding', 'Electronic', 'Turn-Based',\n",
    "    'Real-Time with Pause', '1980s', 'Vehicular Combat', 'Hidden Object', 'Underground', 'Classic', 'Feature Film', 'Investigation', 'Action-Adventure', 'Martial Arts',\n",
    "    'Linear', 'Dungeon Crawler', 'Online Co-Op', 'Epic', 'Action Roguelike', '3D Fighter', 'Bowling', 'Sokoban', 'RPGMaker', 'Utilities', 'Resource Management',\n",
    "    'Gun Customization', 'Cartoon', 'Gothic', 'eSports', 'Chess', 'Hunting', 'Touch-Friendly', 'Party Game', 'Fast-Paced', 'Traditional Roguelike', 'MOBA','Card Battler', 'Surreal', 'Tactical RPG', 'Base Building', 'Realistic', 'Thriller', 'Sexual Content', '3D', 'Roguevania', '3D Vision', 'War', 'Web Publishing',\n",
    "    'Level Editor', 'Stealth', 'Superhero', 'Farming Sim', 'Parkour', 'Horror', 'Top-Down Shooter', 'Combat Racing', 'PvE', 'Sequel', 'Programming', 'Co-op', 'Party',\n",
    "    'TrackIR', 'Movie', 'Team-Based', 'Hacking', 'Local Co-Op', 'Steam Machine', 'Memes', 'Hardware', 'Crafting', 'Cartoony', 'Mining', 'Racing', 'Dark Humor',\n",
    "    'Mars', 'Fighting', 'Software Training', 'Old School', 'Family Friendly', 'Tactical', 'Roguelite', 'Skating', 'Transhumanism', 'Gambling', 'BMX', 'Story Rich',\n",
    "    'Cyberpunk', 'Offroad', \"Beat 'em up\", 'Dystopian', 'Dark Fantasy', 'Pinball', 'Cricket', '2D Platformer', 'Colony Sim', 'Dog', 'Music-Based Procedural Generation',\n",
    "    'Asynchronous Multiplayer', 'Tanks', 'Animation & Modeling', 'Mystery Dungeon', 'On-Rails Shooter', 'Faith', 'Basketball', 'Video Production', 'Electronic Music',\n",
    "    'Nature', 'Solitaire', 'VR', 'Cats', 'Futuristic', 'Experimental', 'Demons', 'Naval', 'Twin Stick Shooter', 'Emotional', 'Adventure', 'God Game', 'Parody',\n",
    "    'Flight', 'NSFW', 'MMORPG', '2.5D', 'Looter Shooter', 'Mouse only', 'Rugby', 'Funny', 'Idler', 'Dragons', 'Football (Soccer)', 'Music', 'Dwarf', '2D Fighter',\n",
    "    'Psychological', 'Precision Platformer', 'Cold War', 'Underwater', 'Grid-Based Movement', 'Nostalgia', 'Crowdfunded', 'World War I', 'Abstract', 'Fox'\n",
    "]\n"
   ]
  },
  {
   "cell_type": "code",
   "execution_count": 12,
   "metadata": {},
   "outputs": [],
   "source": [
    "def get_random_game():\n",
    "    # Выбор случайной строки из датасета\n",
    "    random_game = data.sample()\n",
    "    \n",
    "    game_description = random_game['Description'].values[0]\n",
    "    game_tags = random_game['Tags'].values[0]\n",
    "    game_name = random_game['name'].values[0]\n",
    "    \n",
    "    return game_description, game_tags, game_name"
   ]
  },
  {
   "cell_type": "code",
   "execution_count": 13,
   "metadata": {},
   "outputs": [],
   "source": [
    "import pickle\n",
    "tag_embeddings = get_embeddings(all_tags)\n",
    "with open('tag_embeddings.pkl', 'wb') as f:\n",
    "    pickle.dump(tag_embeddings, f)"
   ]
  },
  {
   "cell_type": "markdown",
   "metadata": {},
   "source": [
    "Новое описание и тэги для этого описания"
   ]
  },
  {
   "cell_type": "code",
   "execution_count": 14,
   "metadata": {},
   "outputs": [],
   "source": [
    "new_description = 'In a frozen world where the last remnants of humanity struggle to survive, you are the leader of a desperate group of survivors, tasked with building the last city on Earth. Facing relentless cold, dwindling resources, and moral dilemmas, you must make tough decisions to ensure your peoples survival. Every choice, from how to manage your workforce to the laws you enact, will shape the fate of your society. Will you be a benevolent leader or rule with an iron fist? As the temperature drops and hope fades, how far will you go to ensure the survival of your city in this unforgiving world?'"
   ]
  },
  {
   "cell_type": "code",
   "execution_count": 15,
   "metadata": {},
   "outputs": [
    {
     "name": "stdout",
     "output_type": "stream",
     "text": [
      "Suggested Tags based on similar descriptions:\n",
      "Singleplayer\n",
      "Indie\n",
      "Survival\n",
      "Adventure\n",
      "3D\n",
      "Exploration\n",
      "Crafting\n",
      "Atmospheric\n",
      "Simulation\n",
      "Zombies\n",
      "2D\n",
      "Multiple Endings\n",
      "Early Access\n",
      "Post-apocalyptic\n",
      "Colony Sim\n",
      "City Builder\n",
      "Resource Management\n",
      "Choices Matter\n",
      "Replay Value\n",
      "Indie\n"
     ]
    }
   ],
   "source": [
    "suggested_tags = find_similar_descriptions_and_suggest_tags(new_description)\n",
    "\n",
    "print(\"Suggested Tags based on similar descriptions:\")\n",
    "for tag in suggested_tags:\n",
    "    print(f\"{tag}\")"
   ]
  },
  {
   "cell_type": "markdown",
   "metadata": {},
   "source": [
    "Описание, тэги и название случайной игры из датасета"
   ]
  },
  {
   "cell_type": "code",
   "execution_count": 37,
   "metadata": {},
   "outputs": [
    {
     "name": "stdout",
     "output_type": "stream",
     "text": [
      "Description of the game:\n",
      "The best way to track Santa on Steam! Read Santa's very own blog as he prepares for the big day and receive exclusive news stories from the North Pole. Use the Advent Calendar to find out where Santa has been spotted during the run up to Christmas. Is he working in the toy factory or going for a ride?\n",
      "\n",
      "Tags associated with this game:\n",
      "Casual, Simulation\n",
      "\n",
      "Name:\n",
      "Santa Tracker\n"
     ]
    }
   ],
   "source": [
    "description, tags, name = get_random_game()\n",
    "print(\"Description of the game:\")\n",
    "print(description)\n",
    "print(\"\\nTags associated with this game:\")\n",
    "print(tags)\n",
    "print('\\nName:')\n",
    "print(name)"
   ]
  },
  {
   "cell_type": "code",
   "execution_count": 17,
   "metadata": {},
   "outputs": [],
   "source": [
    "def evaluate_tags():\n",
    "    # Выбор случайной игры из датасета\n",
    "    random_game = data.sample(1).iloc[0]\n",
    "    real_tags = set([tag.strip() for tag in random_game['Tags'].split(', ')])\n",
    "    predicted_tags = set(find_similar_descriptions_and_suggest_tags(random_game['Description'], num_similar=5))\n",
    "    \n",
    "    # Сравнение тегов\n",
    "    correct_tags = predicted_tags.intersection(real_tags)\n",
    "    if len(real_tags) > 0:\n",
    "        accuracy = len(correct_tags) / len(real_tags) * 100\n",
    "    else:\n",
    "        accuracy = 0  # На случай если теги отсутствуют\n",
    "    return accuracy, real_tags, predicted_tags, correct_tags"
   ]
  },
  {
   "cell_type": "markdown",
   "metadata": {},
   "source": [
    "Оценка тегов слуачйной игры из датасета"
   ]
  },
  {
   "cell_type": "code",
   "execution_count": 19,
   "metadata": {},
   "outputs": [
    {
     "name": "stdout",
     "output_type": "stream",
     "text": [
      "Accuracy: 92.86%\n",
      "Real Tags: {'Sexual Content', 'Text-Based', 'Adventure', 'Choose Your Own Adventure', 'Singleplayer', 'Choices Matter', 'Dating Sim', 'Story Rich', 'Hentai', 'Indie', 'Interactive Fiction', 'Visual Novel', 'RPG', 'Fantasy'}\n",
      "Predicted Tags: {'Dark', 'Sexual Content', 'Third Person', \"Shoot 'Em Up\", 'Survival', '3D', 'Adventure', 'Choose Your Own Adventure', 'Dating Sim', 'Indie', 'Visual Novel', 'Fantasy', 'Text-Based', '2D', 'Choices Matter', 'Story Rich', 'Horror', 'RPG', 'Singleplayer', 'Interactive Fiction'}\n",
      "Correctly Predicted Tags: {'Sexual Content', 'Singleplayer', 'Adventure', 'Choose Your Own Adventure', 'Text-Based', 'Choices Matter', 'Dating Sim', 'Story Rich', 'Indie', 'Interactive Fiction', 'Visual Novel', 'RPG', 'Fantasy'}\n"
     ]
    }
   ],
   "source": [
    "accuracy, real_tags, predicted_tags, correct_tags = evaluate_tags()\n",
    "print(f\"Accuracy: {accuracy:.2f}%\")\n",
    "print(f\"Real Tags: {real_tags}\")\n",
    "print(f\"Predicted Tags: {predicted_tags}\")\n",
    "print(f\"Correctly Predicted Tags: {correct_tags}\")"
   ]
  }
 ],
 "metadata": {
  "kernelspec": {
   "display_name": "Python 3",
   "language": "python",
   "name": "python3"
  },
  "language_info": {
   "codemirror_mode": {
    "name": "ipython",
    "version": 3
   },
   "file_extension": ".py",
   "mimetype": "text/x-python",
   "name": "python",
   "nbconvert_exporter": "python",
   "pygments_lexer": "ipython3",
   "version": "3.12.4"
  }
 },
 "nbformat": 4,
 "nbformat_minor": 2
}
